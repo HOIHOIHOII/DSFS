{
 "cells": [
  {
   "cell_type": "markdown",
   "metadata": {},
   "source": [
    "Current to do:\n",
    "\n",
    "1. Repeat I/O steps using pandas\n",
    "2. Attempt to reproduce Andy's PowerBI Dashboards.\n"
   ]
  },
  {
   "cell_type": "code",
   "execution_count": 76,
   "metadata": {},
   "outputs": [],
   "source": [
    "import csv\n",
    "import glob\n",
    "import getpass\n",
    "import pandas as pd\n",
    "\n",
    "usr = getpass.getuser()\n",
    "\n",
    "if usr == \"AI\":\n",
    "    target_folder =r\"\"\"C:\\Users\\AI\\Documents\\Projects\\Python\\DSFS\\periodicDisclosures\\Donations by Party\"\"\"\n",
    "else:\n",
    "    target_folder = \"fuckfuckfuckfucku\"\n",
    "\n",
    "header = [\"Donor\", \"Recipient\", \"Amount\", \"Year\"]\n",
    "formats = [str, str, float, int]\n",
    "\n",
    "data = []\n",
    "data.append(header)\n",
    "for f in glob.glob(target_folder+r\"\\*\"):\n",
    "    with open(f,\"rb\") as csvf:\n",
    "        reader = csv.reader(csvf)\n",
    "        reader.next()\n",
    "        reader.next()\n",
    "        reader.next()\n",
    "        year = int(re.search(\"\\d{4}\",f).group())\n",
    "        for line in reader:\n",
    "            line[3] = year\n",
    "            line = [fmt(entry) for fmt, entry in zip(formats, line)]\n",
    "            data.append(line)\n",
    "\n",
    "\n"
   ]
  },
  {
   "cell_type": "code",
   "execution_count": 75,
   "metadata": {},
   "outputs": [
    {
     "name": "stdout",
     "output_type": "stream",
     "text": [
      "['C:\\\\Users\\\\AI\\\\Documents\\\\Projects\\\\Python\\\\DSFS\\\\periodicDisclosures\\\\Donations by Party\\\\Summary of Donations reported by Donors - By Party - 1998-1999.csv', 'C:\\\\Users\\\\AI\\\\Documents\\\\Projects\\\\Python\\\\DSFS\\\\periodicDisclosures\\\\Donations by Party\\\\Summary of Donations reported by Donors - By Party - 1999-2000.csv', 'C:\\\\Users\\\\AI\\\\Documents\\\\Projects\\\\Python\\\\DSFS\\\\periodicDisclosures\\\\Donations by Party\\\\Summary of Donations reported by Donors - By Party - 2000-2001.csv', 'C:\\\\Users\\\\AI\\\\Documents\\\\Projects\\\\Python\\\\DSFS\\\\periodicDisclosures\\\\Donations by Party\\\\Summary of Donations reported by Donors - By Party - 2001-2002.csv', 'C:\\\\Users\\\\AI\\\\Documents\\\\Projects\\\\Python\\\\DSFS\\\\periodicDisclosures\\\\Donations by Party\\\\Summary of Donations reported by Donors - By Party - 2002-2003.csv', 'C:\\\\Users\\\\AI\\\\Documents\\\\Projects\\\\Python\\\\DSFS\\\\periodicDisclosures\\\\Donations by Party\\\\Summary of Donations reported by Donors - By Party - 2003-2004.csv', 'C:\\\\Users\\\\AI\\\\Documents\\\\Projects\\\\Python\\\\DSFS\\\\periodicDisclosures\\\\Donations by Party\\\\Summary of Donations reported by Donors - By Party - 2004-2005.csv', 'C:\\\\Users\\\\AI\\\\Documents\\\\Projects\\\\Python\\\\DSFS\\\\periodicDisclosures\\\\Donations by Party\\\\Summary of Donations reported by Donors - By Party - 2005-2006.csv', 'C:\\\\Users\\\\AI\\\\Documents\\\\Projects\\\\Python\\\\DSFS\\\\periodicDisclosures\\\\Donations by Party\\\\Summary of Donations reported by Donors - By Party - 2006-2007.csv', 'C:\\\\Users\\\\AI\\\\Documents\\\\Projects\\\\Python\\\\DSFS\\\\periodicDisclosures\\\\Donations by Party\\\\Summary of Donations reported by Donors - By Party - 2007-2008.csv', 'C:\\\\Users\\\\AI\\\\Documents\\\\Projects\\\\Python\\\\DSFS\\\\periodicDisclosures\\\\Donations by Party\\\\Summary of Donations reported by Donors - By Party - 2008-2009.csv', 'C:\\\\Users\\\\AI\\\\Documents\\\\Projects\\\\Python\\\\DSFS\\\\periodicDisclosures\\\\Donations by Party\\\\Summary of Donations reported by Donors - By Party - 2009-2010.csv', 'C:\\\\Users\\\\AI\\\\Documents\\\\Projects\\\\Python\\\\DSFS\\\\periodicDisclosures\\\\Donations by Party\\\\Summary of Donations reported by Donors - By Party - 2010-2011.csv', 'C:\\\\Users\\\\AI\\\\Documents\\\\Projects\\\\Python\\\\DSFS\\\\periodicDisclosures\\\\Donations by Party\\\\Summary of Donations reported by Donors - By Party - 2011-12.csv', 'C:\\\\Users\\\\AI\\\\Documents\\\\Projects\\\\Python\\\\DSFS\\\\periodicDisclosures\\\\Donations by Party\\\\Summary of Donations reported by Donors - By Party - 2012-13.csv', 'C:\\\\Users\\\\AI\\\\Documents\\\\Projects\\\\Python\\\\DSFS\\\\periodicDisclosures\\\\Donations by Party\\\\Summary of Donations reported by Donors - By Party - 2013-14.csv', 'C:\\\\Users\\\\AI\\\\Documents\\\\Projects\\\\Python\\\\DSFS\\\\periodicDisclosures\\\\Donations by Party\\\\Summary of Donations reported by Donors - By Party - 2014-15.csv', 'C:\\\\Users\\\\AI\\\\Documents\\\\Projects\\\\Python\\\\DSFS\\\\periodicDisclosures\\\\Donations by Party\\\\Summary of Donations reported by Donors - By Party - 2015-16.csv', 'C:\\\\Users\\\\AI\\\\Documents\\\\Projects\\\\Python\\\\DSFS\\\\periodicDisclosures\\\\Donations by Party\\\\Summary of Donations reported by Donors - By Party - 2016-17.csv']\n",
      "['Donor', 'Recipient', 'Amount', 'Year']\n",
      "['Australian Manufacturing Workers Union', 'Australian Labor Party - National Secretariat', 340000.0, 1998]\n",
      "['Shop Distributive and Allied Employees Association', 'Australian Labor Party - National Secretariat', 300000.0, 1998]\n",
      "['Randwick Labor Club Ltd', 'Australian Labor Party (NSW Branch)', 283440.0, 1998]\n",
      "['Weebinn Pty Ltd', 'Liberal Party of Australia (NSW Division)', 257500.0, 1998]\n",
      "['CFMEU (NSW)', 'Australian Labor Party - National Secretariat', 250000.0, 1998]\n",
      "['Unknown 21894', 'Liberal Party of Australia - Federal Secretariat', 250000.0, 1998]\n",
      "['Village Roadshow Ltd', 'Liberal Party of Australia - Federal Secretariat', 250000.0, 1998]\n",
      "['Inghams Enterprises Pty Ltd', 'Liberal Party of Australia - Federal Secretariat', 200000.0, 1998]\n",
      "['Austereo Pty Ltd', 'Liberal Party of Australia - Federal Secretariat', 188616.0, 1998]\n",
      "['Walker Corporation Ltd', 'Australian Labor Party (NSW Branch)', 177000.0, 1998]\n",
      "['Walker Corporation Ltd', 'Liberal Party of Australia - Federal Secretariat', 155250.0, 1998]\n",
      "['Croissy Pty Ltd', 'The Free Enterprise Foundation', 150000.0, 1998]\n",
      "['Santos Ltd', 'Liberal Party of Australia - Federal Secretariat', 150000.0, 1998]\n",
      "['Furama Pty Ltd', 'Liberal Party of Australia (WA Division) Inc', 147194.0, 1998]\n"
     ]
    }
   ],
   "source": [
    "\n",
    "\n",
    "for d in data[0:15]:\n",
    "    print d\n",
    "    "
   ]
  },
  {
   "cell_type": "code",
   "execution_count": 45,
   "metadata": {},
   "outputs": [
    {
     "name": "stdout",
     "output_type": "stream",
     "text": [
      "1999\n"
     ]
    }
   ],
   "source": [
    "import re\n",
    "\n",
    "fname = r\"\"\"Summary of Donations reported by \n",
    "Donors - By Party - 1999-2000\"\"\"\n",
    "\n",
    "matches = \n",
    "\n",
    "print matches.group()\n",
    "\n"
   ]
  },
  {
   "cell_type": "code",
   "execution_count": 54,
   "metadata": {},
   "outputs": [
    {
     "data": {
      "text/plain": [
       "'AI'"
      ]
     },
     "execution_count": 54,
     "metadata": {},
     "output_type": "execute_result"
    }
   ],
   "source": [
    "import getpass\n",
    "getpass.getuser()"
   ]
  }
 ],
 "metadata": {
  "kernelspec": {
   "display_name": "Python 2",
   "language": "python",
   "name": "python2"
  },
  "language_info": {
   "codemirror_mode": {
    "name": "ipython",
    "version": 2
   },
   "file_extension": ".py",
   "mimetype": "text/x-python",
   "name": "python",
   "nbconvert_exporter": "python",
   "pygments_lexer": "ipython2",
   "version": "2.7.14"
  }
 },
 "nbformat": 4,
 "nbformat_minor": 2
}
