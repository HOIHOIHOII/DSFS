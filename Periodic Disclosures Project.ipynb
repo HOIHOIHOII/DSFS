{
 "cells": [
  {
   "cell_type": "markdown",
   "metadata": {},
   "source": [
    "kjankjansdka"
   ]
  },
  {
   "cell_type": "code",
   "execution_count": 21,
   "metadata": {},
   "outputs": [],
   "source": [
    "import csv\n",
    "import glob\n",
    "\n",
    "target_folder  = r\"C:\\Users\\Barnett Sailcloth\\Documents\\Projects\\Python\\Data Science From Scratch\\periodicDisclosures\\Donations by Party\"\n",
    "\n",
    "data = []\n",
    "\n",
    "\n",
    "for f in glob.glob(target_folder+r\"\\*\"):\n",
    "    with open(f,\"rb\") as csvf:\n",
    "        reader = csv.reader(csvf)\n",
    "        reader.next()\n",
    "        reader.next()\n",
    "        reader.next()\n",
    "        year = str(f)[-6:-4]\n",
    "        for line in reader:\n",
    "            line[3]=year\n",
    "            data.append(line)\n",
    "    \n",
    "\n"
   ]
  },
  {
   "cell_type": "code",
   "execution_count": 22,
   "metadata": {
    "scrolled": true
   },
   "outputs": [
    {
     "name": "stdout",
     "output_type": "stream",
     "text": [
      "['Australian Manufacturing Workers Union', 'Australian Labor Party - National Secretariat', '340000.0000', '99']\n"
     ]
    }
   ],
   "source": [
    "print data[0]"
   ]
  },
  {
   "cell_type": "code",
   "execution_count": 30,
   "metadata": {},
   "outputs": [
    {
     "name": "stdout",
     "output_type": "stream",
     "text": [
      "<built-in method group of _sre.SRE_Match object at 0x0000000008D2D8B8>\n"
     ]
    }
   ],
   "source": [
    "import re\n",
    "\n",
    "fname = r\"\"\"Summary of Donations reported by \n",
    "Donors - By Party - 1999-2000\"\"\"\n",
    "\n",
    "src = re.search(r'[0-9]{4}',fname)\n",
    "\n",
    "print src.group]\n"
   ]
  }
 ],
 "metadata": {
  "kernelspec": {
   "display_name": "Python 2",
   "language": "python",
   "name": "python2"
  },
  "language_info": {
   "codemirror_mode": {
    "name": "ipython",
    "version": 2
   },
   "file_extension": ".py",
   "mimetype": "text/x-python",
   "name": "python",
   "nbconvert_exporter": "python",
   "pygments_lexer": "ipython2",
   "version": "2.7.14"
  }
 },
 "nbformat": 4,
 "nbformat_minor": 2
}
