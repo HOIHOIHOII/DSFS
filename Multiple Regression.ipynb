{
 "cells": [
  {
   "cell_type": "code",
   "execution_count": 2,
   "metadata": {
    "scrolled": true
   },
   "outputs": [
    {
     "data": {
      "text/plain": [
       "20"
      ]
     },
     "execution_count": 2,
     "metadata": {},
     "output_type": "execute_result"
    }
   ],
   "source": [
    "#beta = [alpha, beta_1, \\dots, beta_k]\n",
    "\n",
    "def predict(x_i, beta):\n",
    "    \"\"\"assumes the first element of each x_i is 1\"\"\"\n",
    "    return sum(x_ij*beta_j for x_ij, beta_j in zip(x_i,beta))\n"
   ]
  },
  {
   "cell_type": "markdown",
   "metadata": {},
   "source": [
    "Let's construct an example of what happens when the columns of $x$ are: \n",
    "#1. not independent\n",
    "#2. Correlated with the errors\n",
    "\n"
   ]
  },
  {
   "cell_type": "markdown",
   "metadata": {},
   "source": [
    "#2\n",
    "\n",
    "We expect that creating a model with a \"missing\" parameter should cause bias, let's explore an example using the social network  from p181 DSFS.\n",
    "\n",
    "In the social network, we want to predict the number of minutes a user spends on the site using only a few parameters: the number of friends and the number of hours worked at their day job.  \n",
    "\n",
    "Let's assume that:\n",
    "    1. People who work more hours spend less time on the site. (negative correlation: work_hours and minutes)\n",
    "    2. People with more friends tend to work more hours. (positive correlation: friends and work_hours)\n"
   ]
  },
  {
   "cell_type": "code",
   "execution_count": 16,
   "metadata": {},
   "outputs": [
    {
     "data": {
      "image/png": "[encoded data removed]",
      "text/plain": [
       "<matplotlib.figure.Figure at 0xad99a90>"
      ]
     },
     "metadata": {},
     "output_type": "display_data"
    }
   ],
   "source": [
    "import random\n",
    "from matplotlib import pyplot as plt\n",
    "\n",
    "\n",
    "work_hours = [(random.random()+0.3)*10 for _ in range(100)]\n",
    "minutes = [hrs*(-4)+60 + (random.random()-0.5)*10 for hrs in work_hours]\n",
    "\n",
    "_, ax = plt.subplots()\n",
    "\n",
    "ax.scatter(work_hours,minutes)\n",
    "\n",
    "plt.show()"
   ]
  }
 ],
 "metadata": {
  "kernelspec": {
   "display_name": "Python 2",
   "language": "python",
   "name": "python2"
  },
  "language_info": {
   "codemirror_mode": {
    "name": "ipython",
    "version": 2
   },
   "file_extension": ".py",
   "mimetype": "text/x-python",
   "name": "python",
   "nbconvert_exporter": "python",
   "pygments_lexer": "ipython2",
   "version": "2.7.14"
  }
 },
 "nbformat": 4,
 "nbformat_minor": 2
}
