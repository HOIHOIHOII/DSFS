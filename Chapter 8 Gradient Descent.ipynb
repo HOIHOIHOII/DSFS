{
 "cells": [
  {
   "cell_type": "code",
   "execution_count": 1,
   "metadata": {
    "collapsed": true
   },
   "outputs": [],
   "source": [
    "def sum_of_squares(v):\n",
    "    \"\"\"Computes the sum of squares\"\"\"\n",
    "    return sum(v_i**2 for v_i in v)"
   ]
  },
  {
   "cell_type": "markdown",
   "metadata": {},
   "source": [
    "This is the basis of the standard error function for evaluating the performance of predictive model. The sum of squares of the differences between the real y values and the predicted y values should be as small as possible."
   ]
  },
  {
   "cell_type": "code",
   "execution_count": 38,
   "metadata": {},
   "outputs": [
    {
     "name": "stdout",
     "output_type": "stream",
     "text": [
      "-0.999999998333\n",
      "-1.0\n"
     ]
    }
   ],
   "source": [
    "import math\n",
    "from functools import partial\n",
    "\n",
    "def difference_quotient(f,x,h):\n",
    "    \"\"\"find the difference quotient. Returns approximate value of the derivative of f at x for small h\"\"\"\n",
    "    return (f(x+h)-f(x))/h\n",
    "\n",
    "def cosine_derivative(x):\n",
    "    \"\"\"returns the 'exact' value of the derivative of cosine at x\"\"\"\n",
    "    return -math.sin(x)\n",
    "\n",
    "#construct cosine derivative approximation function\n",
    "approx_cosine_derivative = partial(difference_quotient, math.cos, h=0.0001)\n",
    "\n",
    "\n",
    "acd = approx_cosine_derivative\n",
    "cd = cosine_derivative\n",
    "\n",
    "print acd(math.pi/2)\n",
    "print cd(math.pi/2)\n",
    "\n",
    "\n"
   ]
  },
  {
   "cell_type": "markdown",
   "metadata": {},
   "source": [
    "In the next chart, we show that, even with $h$ quite large at $h=0.05$, the approximation to $cos'(x)$ is a pretty good one. Look a how the approximated points (red crosses) are close to the real values (blue plus)."
   ]
  },
  {
   "cell_type": "code",
   "execution_count": 106,
   "metadata": {},
   "outputs": [
    {
     "data": {
      "image/png": "[encoded data removed]",
      "text/plain": [
       "<matplotlib.figure.Figure at 0xb2f8ef0>"
      ]
     },
     "metadata": {},
     "output_type": "display_data"
    }
   ],
   "source": [
    "from matplotlib import pyplot as plt\n",
    "import numpy as np\n",
    "\n",
    "acd = partial(difference_quotient, math.cos, h=0.05)\n",
    "\n",
    "xs = np.arange(-2,2,0.05)*math.pi \n",
    "approx_ys = [acd(x) for x in xs]\n",
    "exact_ys = [cd(x) for x in xs]\n",
    "\n",
    "fig, ax = plt.subplots(1)\n",
    "\n",
    "ax.plot(xs, approx_ys, \"rx\", label=\"Approx\")\n",
    "ax.plot(xs, exact_ys, \"b+\", label=\"Estimate\")\n",
    "plt.legend(loc=9)\n",
    "plt.show()"
   ]
  },
  {
   "cell_type": "code",
   "execution_count": 107,
   "metadata": {},
   "outputs": [
    {
     "name": "stdout",
     "output_type": "stream",
     "text": [
      "32.0024000801\n"
     ]
    }
   ],
   "source": [
    "def partial_difference_quotient(f,v,i,h):\n",
    "    \"\"\"returns the approximation to the ith gradient component of the multivariate function f at the point v, for small h\"\"\"\n",
    "    \n",
    "    w = [v_j +(h if j==i else 0) for j, v_j in enumerate(v)]\n",
    "    return (f(w)-f(v))/h\n",
    "\n",
    "pdq = partial_difference_quotient\n",
    "print pdq(lambda (x,y,z): x**2+y**3+z**4, (2,2,2), 2,0.0001)\n",
    "#expect pdq(f,v,0,h) = 4, pdq(f,v,1,h) = 12, pdq(f,v,2,h)=32 for given values of f, v, h.\n"
   ]
  },
  {
   "cell_type": "markdown",
   "metadata": {},
   "source": []
  },
  {
   "cell_type": "code",
   "execution_count": 225,
   "metadata": {
    "collapsed": true
   },
   "outputs": [],
   "source": [
    "import random\n",
    "\n",
    "def distance(v,w):\n",
    "    return math.sqrt(sum((v_i-w_i)**2 for v_i,w_i in zip(v,w)))\n",
    "\n",
    "def step(v, direction, step_size):\n",
    "    \"\"\"move step_size in direction from v\"\"\"\n",
    "    return [v_i +step_size*direction_i for v_i,direction_i in zip(v,direction)]\n",
    "\n",
    "def sum_of_squares_gradient(v):\n",
    "    return [2*v_i for v_i in v]\n",
    "\n",
    "v = [random.randint(-10,10) for i in range(3)]\n",
    "\n",
    "tolerance = 0.000001\n",
    "\n",
    "def run_minimisation(v):\n",
    "    \"\"\"Minimises the sum of squares function\"\"\"\n",
    "    while True:\n",
    "        gradient = sum_of_squares_gradient(v) #compute the gradient at v\n",
    "        next_v = step(v, gradient, -0.01)\n",
    "        if distance(next_v, v) < tolerance:\n",
    "            break\n",
    "        v=next_v\n",
    "    return v\n",
    "# print run_minimisation(v)\n",
    "\n",
    "def safe(f):\n",
    "    \"\"\"return a new function that's the same as f but outputs infty whenever f produces an error\"\"\"\n",
    "    def safe_f(*args, **kwargs):\n",
    "        try:\n",
    "            return f(*args, **kwargs)\n",
    "        except:\n",
    "            return float('inf')\n",
    "    return safe_f\n"
   ]
  },
  {
   "cell_type": "code",
   "execution_count": null,
   "metadata": {
    "collapsed": true
   },
   "outputs": [],
   "source": []
  },
  {
   "cell_type": "code",
   "execution_count": 257,
   "metadata": {
    "scrolled": true
   },
   "outputs": [
    {
     "name": "stdout",
     "output_type": "stream",
     "text": [
      "[1.000021778071483, 0.9986497595680577, 1.0001742245718634, 0.9999128877140683, 1.0001742245718634, 1.0002613368577953]\n"
     ]
    }
   ],
   "source": [
    "def minimise_batch(target_fn, gradient_fn, theta_0, tolerance=0.000001):\n",
    "    \"\"\"Use gradient descent to find theta that minimises target function\"\"\"\n",
    "    step_sizes = [1,0.1,0.01,0.001,0.0001,0.00001]\n",
    "    \n",
    "    theta = theta_0\n",
    "    target_fn = safe(target_fn)\n",
    "    gradient_fn = safe(gradient_fn)\n",
    "    value = target_fn(theta)\n",
    "    \n",
    "\n",
    "    \n",
    "    while True:\n",
    "        gradient= gradient_fn(theta)\n",
    "        next_thetas = [step(theta, gradient, -step_size) for step_size in step_sizes]\n",
    "        next_theta = min(next_thetas, key=target_fn)\n",
    "        next_value = target_fn(next_theta)\n",
    "        \n",
    "        if abs(value - next_value) < tolerance:\n",
    "            return theta\n",
    "        else:\n",
    "            theta, value = next_theta, next_value\n",
    "            \n",
    "print minimise_batch(lambda  v: sum((v_i-1)**2 for v_i in v), lambda v: [2*v_i-2 for v_i in v], [1.5,-30,5,-1,5,7])"
   ]
  },
  {
   "cell_type": "markdown",
   "metadata": {},
   "source": [
    "To check that I understood how this was working I ran this on a single variable quartic function and plotted the results"
   ]
  },
  {
   "cell_type": "code",
   "execution_count": 304,
   "metadata": {},
   "outputs": [
    {
     "data": {
      "image/png": "[encoded data removed]",
      "text/plain": [
       "<matplotlib.figure.Figure at 0xc7f90b8>"
      ]
     },
     "metadata": {},
     "output_type": "display_data"
    }
   ],
   "source": [
    "def quartic(x):\n",
    "    \"\"\"should take a vector of length 1\"\"\"\n",
    "    x= x[0]\n",
    "    return (x+3)*(x-3)*(x**2+2*x+1) + 5*math.sin(x)\n",
    "\n",
    "def cubic(x):\n",
    "    scalar_cubic = partial(partial_difference_quotient,quartic, i=0, h=0.00001 )\n",
    "    return [scalar_cubic(x)]\n",
    "    \n",
    "xs = np.arange(-5,5,0.1)\n",
    "ys = [quartic([x]) for x in xs]\n",
    "ys2 = [0 for _ in xs]\n",
    "ys3 = [cubic([x]) for x in xs]\n",
    "\n",
    "x = minimise_batch(quartic, cubic, [-5]) #finds the shallow local min\n",
    "x2 = minimise_batch(quartic, cubic, [1]) #finds the deeper global min\n",
    "y = quartic(x)\n",
    "y2 = quartic(x2)\n",
    "\n",
    "\n",
    "fig, axs = plt.subplots(1)\n",
    "\n",
    "\n",
    "axs.plot(xs,ys, \"r-\")\n",
    "axs.plot(xs,ys2)\n",
    "axs.plot(xs,ys3, \"b-\",alpha=0.1)\n",
    "axs.plot(x,y,\"go\")\n",
    "axs.plot(x2,y2,\"go\")\n",
    "axs.annotate(\"Local Min\",xy=(x[0],y-4))\n",
    "axs.annotate(\"Global Min\",xy=(x2[0],y2-4))\n",
    "axs.set(ylim=[-50,10])\n",
    "\n",
    "\n",
    "plt.show()\n",
    "\n",
    "\n",
    "\n",
    "\n",
    "\n",
    "\n",
    "#works! \n"
   ]
  },
  {
   "cell_type": "code",
   "execution_count": 1,
   "metadata": {},
   "outputs": [],
   "source": [
    "def negate(f):\n",
    "    \"\"\"return a function that for any input x returns -f(x)\"\"\"\n",
    "    return lambda *args, **kwargs: -f(*args, **kwargs)\n",
    "\n",
    "def negate_all(f):\n",
    "    \"\"\"the same when f returns a list of numbers\"\"\"\n",
    "    return lambda *args, **kwargs: [-y for y in f(*args, **kwargs)]\n",
    "\n",
    "def maximise_batch(target_fn, gradient_fn, theta_0, tolerance=0.000001):\n",
    "    return minimise_batch(negate(target_fn),negate_all(gradient_fn), theta_0, tolerance)\n",
    "\n",
    "\n",
    "\n"
   ]
  },
  {
   "cell_type": "code",
   "execution_count": 380,
   "metadata": {
    "collapsed": true
   },
   "outputs": [],
   "source": [
    "def in_random_order(data):\n",
    "    \"\"\"generator that returns data in some random order\"\"\"\n",
    "    indexes = [i for i,_ in enumerate(data)]\n",
    "    random.shuffle(indexes)\n",
    "    for i in indexes:\n",
    "        yield data[i]\n",
    "\n",
    "def scalar_multiply(a,v):\n",
    "    return [a*v_i for v_i in v]\n",
    "        \n",
    "def vector_subtract(v,w):\n",
    "    return [v_i - w_i for v_i,w_i in zip(v,w)]\n",
    "        \n",
    "def minimise_stochastic(target_fn, gradient_fn, x, y, theta_0, alpha_0=0.01):\n",
    "    \"\"\"minimises target function one parameter at a time?\"\"\"\n",
    "    data = zip(x,y)\n",
    "    theta = theta_0                           #initial guess of input that yeilds minimum value\n",
    "    alpha = alpha_0                           #initial step size\n",
    "    min_theta, min_value = None, float(\"inf\") #current minimum\n",
    "    iterations_with_no_improvement = 0\n",
    "    \n",
    "    \n",
    "    #if we ever go 100 iterations with no improvement, stop\n",
    "    \n",
    "    \n",
    "    while iterations_with_no_improvement < 100:\n",
    "        value = sum(target_fn(x_i, y_i, theta) for x_i, y_i in data)\n",
    "        \n",
    "        if value < min_value:\n",
    "            min_theta, min_value = theta, value\n",
    "            iterations_with_no_improvement = 0\n",
    "            alpha = alpha_0\n",
    "        else:\n",
    "            #otherwise not improving, so try shrikning step size\n",
    "            iterations_with_no_improvement += 1\n",
    "            alpha *= 0.9\n",
    "            \n",
    "        for x_i, y_i in in_random_order(data):\n",
    "            gradient_i = gradient_fn(x_i, y_i, theta)\n",
    "            theta = vector_subtract(theta, scalar_multiply(alpha, gradient_i))\n",
    "            \n",
    "    return min_theta"
   ]
  },
  {
   "cell_type": "code",
   "execution_count": 389,
   "metadata": {},
   "outputs": [
    {
     "data": {
      "image/png": "[encoded data removed]",
      "text/plain": [
       "<matplotlib.figure.Figure at 0xc1430b8>"
      ]
     },
     "metadata": {},
     "output_type": "display_data"
    },
    {
     "name": "stdout",
     "output_type": "stream",
     "text": [
      "1.0248951195 0.134275332647\n"
     ]
    }
   ],
   "source": [
    "#generate a bunch of scattered points\n",
    "np.random.seed(4)\n",
    "xs = scalar_multiply(10,np.random.rand(200))\n",
    "rands = np.random.normal(0,2,200)\n",
    "ys = [x+r for x,r in zip(xs,rands)]\n",
    "\n",
    "pts = zip(xs,ys)\n",
    "\n",
    "\n",
    "\n",
    "def squared_error(x,y,params):\n",
    "    \"\"\"the squared y-distance from a line\"\"\"\n",
    "    m,b = params #weird format so I cn plug directly into target_fn slot in SGD function\n",
    "    return ((m*x+b)-y)**2\n",
    "\n",
    "def sum_squares_error(data, params):\n",
    "    \"\"\"returns the sum of the squared errors of data on a given line\"\"\"\n",
    "    m,b = params\n",
    "    return sum(squared_error(x,y,m,b) for x,y in data)\n",
    "    \n",
    "\n",
    "#here target_fn is squares error, we want to minimise it to get the values of m and b, which define the regression line\n",
    "#the gradient fn is the derivative of the target_fn (wrt what?). In the case of minimising a plain old function f(x,y)\n",
    "#we would want to explore the values of x and y that make the output f(x,y) as small as possible. Here I think we only\n",
    "#need to vary m and b. So, PD_m = sum(2x*(m*x+b - y) for x,y) and PD_b = sum(2*(m*x+b - y) for x,y). Another thing occurs to me\n",
    "#if we're going to iterate though all the data points one by one, won't our gradient function change over time? Yep. Doesn't\n",
    "#seem to matter, still worked. Could generalise this to a numerical gradient computation,\n",
    "#where all mentions of the line mx+b and its parameters m,b are replaced by \"model\", to allow for different modelling functions\n",
    "\n",
    "def se_grad(x,y,params):\n",
    "    \"\"\"The gradient of the squared_error as a function of m and b\"\"\"\n",
    "    m,b = params\n",
    "    return [2*x*(m*x+b-y),2*(m*x+b-y)]\n",
    "\n",
    "def sse_grad(data, params):\n",
    "    \"\"\"The sum of the gradient of the squared_error function over a whole data set\"\"\"\n",
    "    m,b = params\n",
    "    return sum(se_grad(x,y,[m,b]) for x,y in data)\n",
    "\n",
    "grad, intercept =  minimise_stochastic(squared_error, se_grad, xs, ys, [1,0])\n",
    "\n",
    "fig, axs = plt.subplots(1)\n",
    "\n",
    "lxs = np.arange(0,10,0.01)\n",
    "lys = [grad*x +intercept for x in lxs]\n",
    "\n",
    "axs.scatter(xs,ys,alpha=0.2)\n",
    "axs.plot(lxs,lys, \"r-\")\n",
    "plt.show()\n",
    "\n",
    "print grad, intercept\n",
    "\n",
    "\n"
   ]
  },
  {
   "cell_type": "markdown",
   "metadata": {},
   "source": [
    "You have a dataset and you want to develop a linear model that describes it. So you make a guess what the parameters $m$ and $b$ are. Call these $\\theta$. You look at the size of the error (sum of squares of the deviation) and realise that maybe you guess wasn't very good. How can you improve your guess? One way is to apply calculus to minimise the error function. You have an explicit error function, so you can compute the gradient of the error function (by allowing the parameters to vary). You then take a step in parameter space in the -ive direction of the gradient. This should reduce the value of your error for the dataset, for a step of the right size.\n",
    "\n",
    "Now, here is where you can make a choice about how to track the gradient. Your error function is the sum of the errors of the individual data points. You can choose to look at what each error and corresponding gradient component says individually, or as a whole. If you choose to hear what the datapoints have to say all together this is batch gradient descent. If you listen individually, this is stochastic gradient descent (stochastic because you're going to listen in a random order)."
   ]
  },
  {
   "cell_type": "code",
   "execution_count": 391,
   "metadata": {
    "collapsed": true
   },
   "outputs": [],
   "source": [
    "'''\n",
    "======================\n",
    "3D surface (color map)\n",
    "======================\n",
    "\n",
    "Demonstrates plotting a 3D surface colored with the coolwarm color map.\n",
    "The surface is made opaque by using antialiased=False.\n",
    "\n",
    "Also demonstrates using the LinearLocator and custom formatting for the\n",
    "z axis tick labels.\n",
    "'''\n",
    "\n",
    "from mpl_toolkits.mplot3d import Axes3D\n",
    "import matplotlib.pyplot as plt\n",
    "from matplotlib import cm\n",
    "from matplotlib.ticker import LinearLocator, FormatStrFormatter\n",
    "import numpy as np\n",
    "\n",
    "\n",
    "fig = plt.figure()\n",
    "ax = fig.gca(projection='3d')\n",
    "\n",
    "# Make data.\n",
    "X = np.arange(-5, 5, 0.25)\n",
    "Y = np.arange(-5, 5, 0.25)\n",
    "X, Y = np.meshgrid(X, Y)\n",
    "R = np.sqrt(X**2 + Y**2)\n",
    "Z = np.sin(R)\n",
    "\n",
    "# Plot the surface.\n",
    "surf = ax.plot_surface(X, Y, Z, cmap=cm.coolwarm,\n",
    "                       linewidth=0, antialiased=False)\n",
    "\n",
    "# Customize the z axis.\n",
    "ax.set_zlim(-1.01, 1.01)\n",
    "ax.zaxis.set_major_locator(LinearLocator(10))\n",
    "ax.zaxis.set_major_formatter(FormatStrFormatter('%.02f'))"
   ]
  },
  {
   "cell_type": "markdown",
   "metadata": {
    "collapsed": true
   },
   "source": [
    "Should plot a nice volcano, but doesn't seem to be working.\n"
   ]
  }
 ],
 "metadata": {
  "kernelspec": {
   "display_name": "Python 2",
   "language": "python",
   "name": "python2"
  },
  "language_info": {
   "codemirror_mode": {
    "name": "ipython",
    "version": 2
   },
   "file_extension": ".py",
   "mimetype": "text/x-python",
   "name": "python",
   "nbconvert_exporter": "python",
   "pygments_lexer": "ipython2",
   "version": "2.7.14"
  }
 },
 "nbformat": 4,
 "nbformat_minor": 2
}
