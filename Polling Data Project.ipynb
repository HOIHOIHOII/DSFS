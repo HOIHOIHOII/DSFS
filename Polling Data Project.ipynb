{
 "cells": [
  {
   "cell_type": "markdown",
   "metadata": {},
   "source": [
    "\n",
    "How many percentage points away from 50% in a two-party preferred poll represents a serious situation? \n",
    "\n",
    "How do the pollsters differ? (in terms of average gap, bias) \n",
    "\n",
    "Are their numbers well correlated in time? \n",
    "\n",
    "Which pollster has had better success predicting election results? \n",
    "\n",
    "What are the main pollsters in Australia? \n",
    "\n",
    "How do you get their time series data?\n",
    "\n",
    "Is there a corpus of newspaper headlines that can be analysed? (sentiment analysis)\n",
    "\n",
    "Is it easy to find events that correlate with changes in preferred vote?\n"
   ]
  },
  {
   "cell_type": "markdown",
   "metadata": {},
   "source": [
    "The main pollsters in Aus are:\n",
    "    1. Newspoll\n",
    "    2. Roy Morgan\n",
    "    3. Galaxy Research\n",
    "    4. Nielsen Corporation"
   ]
  }
 ],
 "metadata": {
  "kernelspec": {
   "display_name": "Python 2",
   "language": "python",
   "name": "python2"
  },
  "language_info": {
   "codemirror_mode": {
    "name": "ipython",
    "version": 2
   },
   "file_extension": ".py",
   "mimetype": "text/x-python",
   "name": "python",
   "nbconvert_exporter": "python",
   "pygments_lexer": "ipython2",
   "version": "2.7.14"
  }
 },
 "nbformat": 4,
 "nbformat_minor": 2
}
