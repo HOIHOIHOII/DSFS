{
 "cells": [
  {
   "cell_type": "code",
   "execution_count": 1,
   "metadata": {},
   "outputs": [
    {
     "name": "stdout",
     "output_type": "stream",
     "text": [
      "25\n",
      "1728000\n"
     ]
    }
   ],
   "source": [
    "def exp(base, power):\n",
    "    return base ** power\n",
    "\n",
    "print exp(5,2)\n",
    "print exp(120,3)"
   ]
  },
  {
   "cell_type": "code",
   "execution_count": 4,
   "metadata": {},
   "outputs": [
    {
     "data": {
      "image/png": "[encoded data removed]",
      "text/plain": [
       "<matplotlib.figure.Figure at 0x75912e8>"
      ]
     },
     "metadata": {},
     "output_type": "display_data"
    }
   ],
   "source": [
    "from collections import Counter\n",
    "from matplotlib import pyplot as plt\n",
    "def two_to_the(power):\n",
    "    return exp(2,power)\n",
    "    \n",
    "A= Counter(list(str(two_to_the(10000))))\n",
    "\n",
    "fig, ax = plt.subplots()\n",
    "rects1 = ax.bar(A.keys(), A.values(), color='royalblue')\n",
    "rects2 = ax.bar(A.keys(), A.values(), color='slateblue')\n",
    "rects3 = ax.bar(A.keys(), A.values(), color='darkorange')\n",
    "plt.show()"
   ]
  },
  {
   "cell_type": "code",
   "execution_count": 7,
   "metadata": {},
   "outputs": [
    {
     "name": "stdout",
     "output_type": "stream",
     "text": [
      "[2, 4, 6, 8] [2, 4, 6, 8] [2, 4, 6, 8]\n"
     ]
    }
   ],
   "source": [
    "from functools import partial\n",
    "import inspect\n",
    "\n",
    "def double(x):\n",
    "    return x*2\n",
    "\n",
    "xs = [1,2,3,4]\n",
    "twice_x = [double(x) for x in xs]\n",
    "twice_xs = map(double, xs)\n",
    "list_doubler = partial(map, double)\n",
    "twice_xxs = list_doubler(xs)\n",
    "\n",
    "print twice_x, twice_xs, twice_xxs\n",
    "\n"
   ]
  },
  {
   "cell_type": "code",
   "execution_count": 13,
   "metadata": {
    "scrolled": true
   },
   "outputs": [
    {
     "name": "stdout",
     "output_type": "stream",
     "text": [
      "[2, 4]\n"
     ]
    }
   ],
   "source": [
    "def multiply(x,y): return x*y\n",
    "\n",
    "products = map(multiply, [1,2,5],[4,5,6])\n",
    "# print products\n",
    "\n",
    "def is_even(x):\n",
    "    return x % 2 ==0\n",
    "\n",
    "\n",
    "x_evens = [x for x in xs if is_even(x)]\n",
    "x_evens = filter(is_even, xs)\n",
    "list_evener = partial(filter, is_even)\n",
    "x_evens = list_evener(xs)\n",
    "\n",
    "\n",
    "print(x_evens)\n",
    "\n"
   ]
  },
  {
   "cell_type": "code",
   "execution_count": null,
   "metadata": {
    "collapsed": true
   },
   "outputs": [],
   "source": []
  },
  {
   "cell_type": "code",
   "execution_count": 16,
   "metadata": {},
   "outputs": [
    {
     "name": "stdout",
     "output_type": "stream",
     "text": [
      "24\n"
     ]
    }
   ],
   "source": [
    "x_product = reduce(multiply,xs)\n",
    "list_product = partial(reduce,multiply)\n",
    "x_product = list_product(xs)\n",
    "\n",
    "print x_product\n"
   ]
  },
  {
   "cell_type": "raw",
   "metadata": {},
   "source": [
    "This is some raw text, not code. It's just here so I can make notes about stuff. "
   ]
  },
  {
   "cell_type": "code",
   "execution_count": null,
   "metadata": {
    "collapsed": true
   },
   "outputs": [],
   "source": []
  },
  {
   "cell_type": "code",
   "execution_count": 31,
   "metadata": {},
   "outputs": [
    {
     "name": "stdout",
     "output_type": "stream",
     "text": [
      "0 (\n",
      "1 )\n",
      "2 *\n",
      "3 +\n",
      "4 ,\n",
      "5 -\n",
      "6 .\n",
      "7 /\n",
      "8 0\n",
      "9 1\n",
      "( 0\n",
      ") 1\n",
      "* 2\n",
      "+ 3\n",
      ", 4\n",
      "- 5\n",
      ". 6\n",
      "/ 7\n",
      "0 8\n",
      "1 9\n",
      "0 (\n",
      "1 )\n",
      "2 *\n",
      "3 +\n",
      "4 ,\n",
      "5 -\n",
      "6 .\n",
      "7 /\n",
      "8 0\n",
      "9 1\n"
     ]
    }
   ],
   "source": [
    "# coding: utf-8\n",
    "# not pythonic \n",
    "\n",
    "characters = [unichr(i) for i in range(40,50)]\n",
    "\n",
    "\n",
    "for i in range(len(characters)):\n",
    "    character = characters[i]\n",
    "    print i, character\n",
    "    \n",
    "i=0\n",
    "for character in characters:\n",
    "    print character, i\n",
    "    i += 1\n",
    "    \n",
    "for i, character in enumerate(characters):\n",
    "    print i, character"
   ]
  },
  {
   "cell_type": "code",
   "execution_count": 47,
   "metadata": {},
   "outputs": [
    {
     "ename": "TypeError",
     "evalue": "concat() takes exactly 2 arguments (1 given)",
     "output_type": "error",
     "traceback": [
      "\u001b[1;31m---------------------------------------------------------------------------\u001b[0m",
      "\u001b[1;31mTypeError\u001b[0m                                 Traceback (most recent call last)",
      "\u001b[1;32m<ipython-input-47-f76219c4f284>\u001b[0m in \u001b[0;36m<module>\u001b[1;34m()\u001b[0m\n\u001b[0;32m      8\u001b[0m \u001b[1;33m\u001b[0m\u001b[0m\n\u001b[0;32m      9\u001b[0m \u001b[1;33m\u001b[0m\u001b[0m\n\u001b[1;32m---> 10\u001b[1;33m \u001b[1;32mprint\u001b[0m \u001b[0mconcat\u001b[0m\u001b[1;33m(\u001b[0m\u001b[1;33m(\u001b[0m\u001b[1;34m\"a\"\u001b[0m\u001b[1;33m,\u001b[0m\u001b[1;36m6\u001b[0m\u001b[1;33m)\u001b[0m\u001b[1;33m)\u001b[0m\u001b[1;33m\u001b[0m\u001b[0m\n\u001b[0m\u001b[0;32m     11\u001b[0m \u001b[1;32mprint\u001b[0m \u001b[0mlist\u001b[0m\u001b[1;33m(\u001b[0m\u001b[0mletters\u001b[0m\u001b[1;33m)\u001b[0m\u001b[1;33m,\u001b[0m \u001b[0mnumbers\u001b[0m\u001b[1;33m\u001b[0m\u001b[0m\n",
      "\u001b[1;31mTypeError\u001b[0m: concat() takes exactly 2 arguments (1 given)"
     ]
    }
   ],
   "source": [
    "list1 = [\"a\", \"b\", \"c\", \"d\",\"k\"]\n",
    "list2 = [1,2,3, 4]\n",
    "pairs =  zip(list1,list2)\n",
    "\n",
    "letters, numbers = zip(*pairs)\n",
    "def concat(a,b):\n",
    "    return str(a)+str(b)\n",
    "\n",
    "\n",
    "print concat(*(\"a\",6))\n",
    "print list(letters), numbers"
   ]
  },
  {
   "cell_type": "code",
   "execution_count": null,
   "metadata": {
    "collapsed": true
   },
   "outputs": [],
   "source": []
  },
  {
   "cell_type": "code",
   "execution_count": 56,
   "metadata": {},
   "outputs": [
    {
     "name": "stdout",
     "output_type": "stream",
     "text": [
      "36\n",
      "225\n"
     ]
    }
   ],
   "source": [
    "def doubler(f):\n",
    "    def g(x):\n",
    "        return f(x)**2\n",
    "    return g\n",
    "\n",
    "\n",
    "def f1(x):\n",
    "    return x + 1\n",
    "\n",
    "def ftimesthree(x):\n",
    "    return 3*x\n",
    "    \n",
    "g1 = doubler(f1)\n",
    "g2 = doubler(ftimesthree)\n",
    "\n",
    "print g1(5)\n",
    "print g2(5)"
   ]
  },
  {
   "cell_type": "code",
   "execution_count": 61,
   "metadata": {
    "scrolled": true
   },
   "outputs": [
    {
     "ename": "TypeError",
     "evalue": "g() takes exactly 1 argument (2 given)",
     "output_type": "error",
     "traceback": [
      "\u001b[1;31m---------------------------------------------------------------------------\u001b[0m",
      "\u001b[1;31mTypeError\u001b[0m                                 Traceback (most recent call last)",
      "\u001b[1;32m<ipython-input-61-68f09378dc73>\u001b[0m in \u001b[0;36m<module>\u001b[1;34m()\u001b[0m\n\u001b[0;32m      4\u001b[0m \u001b[0mg\u001b[0m \u001b[1;33m=\u001b[0m \u001b[0mdoubler\u001b[0m\u001b[1;33m(\u001b[0m\u001b[0mf3\u001b[0m\u001b[1;33m)\u001b[0m\u001b[1;33m\u001b[0m\u001b[0m\n\u001b[0;32m      5\u001b[0m \u001b[1;33m\u001b[0m\u001b[0m\n\u001b[1;32m----> 6\u001b[1;33m \u001b[0mg\u001b[0m\u001b[1;33m(\u001b[0m\u001b[1;36m1\u001b[0m\u001b[1;33m,\u001b[0m\u001b[1;36m3\u001b[0m\u001b[1;33m)\u001b[0m\u001b[1;33m\u001b[0m\u001b[0m\n\u001b[0m",
      "\u001b[1;31mTypeError\u001b[0m: g() takes exactly 1 argument (2 given)"
     ]
    }
   ],
   "source": [
    "def f3(x,y):\n",
    "    return x+y\n",
    "\n",
    "g = doubler(f3)\n",
    "\n",
    "g(1,3)"
   ]
  },
  {
   "cell_type": "markdown",
   "metadata": {},
   "source": [
    "You should know the binomial theorem:\n",
    "\n",
    "\n",
    "\\begin{equation}\n",
    "(a+b)^n = \\sum_{i=1}^n a^i b^{n-i} {n \\choose{i}}\n",
    "\\end{equation}"
   ]
  },
  {
   "cell_type": "code",
   "execution_count": 78,
   "metadata": {},
   "outputs": [
    {
     "name": "stdout",
     "output_type": "stream",
     "text": [
      "unnamed args: (1, 2, 3, 4, 1, 2, 3, 4)\n",
      "unnamed kwargs: {'shit': 100, 'dog': 'fat', 'fist': 'cuff'}\n"
     ]
    }
   ],
   "source": [
    "\n",
    "def magic(*args, **kwargs):\n",
    "    print \"unnamed args:\", args\n",
    "    print \"unnamed kwargs:\", kwargs\n",
    "    return None\n",
    "\n",
    "key_word_args = {\"shit\" : 100, \"dog\": \"fat\"}\n",
    "    \n",
    "magic(1,2,3,4,fist=\"cuff\",*[1,2,3,4], **key_word_args)"
   ]
  },
  {
   "cell_type": "code",
   "execution_count": 82,
   "metadata": {
    "scrolled": true
   },
   "outputs": [
    {
     "data": {
      "image/png": "[encoded data removed]",
      "text/plain": [
       "<matplotlib.figure.Figure at 0xb5f0c88>"
      ]
     },
     "metadata": {},
     "output_type": "display_data"
    }
   ],
   "source": [
    "\n",
    "from matplotlib import pyplot as plt\n",
    "\n",
    "years = [1950,1960,1970,1980,1990,2000,2010,2020]\n",
    "gdp = [123,144,148,156,200,223,245, 255]\n",
    "\n",
    "#create a line chart with years on x-axis and gdp on y-axis\n",
    "plt.plot(years, gdp, color='green', marker='o', linestyle='solid')\n",
    "\n",
    "#add a title\n",
    "plt.title(\"Nominal GDP\")\n",
    "\n",
    "#add a label to the y-axis\n",
    "plt.ylabel(\"Billions of $\")\n",
    "plt.xlabel(\"Year\")\n",
    "plt.show()"
   ]
  },
  {
   "cell_type": "code",
   "execution_count": 94,
   "metadata": {},
   "outputs": [
    {
     "data": {
      "image/png": "[encoded data removed]",
      "text/plain": [
       "<matplotlib.figure.Figure at 0xc584cf8>"
      ]
     },
     "metadata": {},
     "output_type": "display_data"
    }
   ],
   "source": [
    "movies = [\"Annie Hall\",\"Ben-Hur\",\"Casablanca\",\"Ghandi\",\"West Side Story\"]\n",
    "num_oscars = [5,11,3,8,10]\n",
    "\n",
    "#brs are by default width 0.8, so we'll add 0.1 to left coords\n",
    "#so hat bar is centred\n",
    "\n",
    "xs = [i +0.5  for i, _ in enumerate(movies)]\n",
    "\n",
    "#plot bars with left x-coords [xs], heights [num_oscars]\n",
    "plt.bar(xs, num_oscars)\n",
    "\n",
    "plt.ylabel(\"# of Academy Awards\")\n",
    "plt.xlabel(\"My Favourite Movies\")\n",
    "\n",
    "#label x-axis with movie names ar bar centres\n",
    "plt.xticks([i + 0.5 for i,_ in enumerate(movies)], movies)\n",
    "\n",
    "\n",
    "plt.show()"
   ]
  },
  {
   "cell_type": "code",
   "execution_count": 106,
   "metadata": {},
   "outputs": [
    {
     "name": "stdout",
     "output_type": "stream",
     "text": [
      "Counter({80: 9, 50: 4, 20: 3, 70: 2, 40: 2, 10: 2, 30: 2, 60: 1})\n"
     ]
    },
    {
     "data": {
      "image/png": "[encoded data removed]",
      "text/plain": [
       "<matplotlib.figure.Figure at 0xc8365f8>"
      ]
     },
     "metadata": {},
     "output_type": "display_data"
    }
   ],
   "source": [
    "from collections import Counter\n",
    "\n",
    "grades = [85,47,85,88,53,85,35,85,35,87,87,74,59,73,84,25,84,25,47,58,62,16,14,23,53]\n",
    "decile = lambda grade: grade // 10 * 10\n",
    "histogram = Counter(decile(grade) for grade in grades)\n",
    "print histogram\n",
    "\n",
    "plt.bar([x  for x in histogram.keys()],\n",
    "       histogram.values(),\n",
    "       8)\n",
    "\n",
    "plt.axis([-5,105,0,5])\n",
    "\n",
    "plt.xticks([10*i for i in range(11)])\n",
    "plt.xlabel(\"Decile\")\n",
    "plt.ylabel(\"# of Students\")\n",
    "plt.title(\"Distribution of Exam 1 Grades\")\n",
    "plt.show()\n"
   ]
  },
  {
   "cell_type": "code",
   "execution_count": 114,
   "metadata": {},
   "outputs": [
    {
     "data": {
      "image/png": "[encoded data removed]",
      "text/plain": [
       "<matplotlib.figure.Figure at 0x7581eb8>"
      ]
     },
     "metadata": {},
     "output_type": "display_data"
    }
   ],
   "source": [
    "mentions = [500,505]\n",
    "years = [2013,2014]\n",
    "\n",
    "plt.bar(years, mentions, 0.8)\n",
    "\n",
    "plt.xticks(years)\n",
    "\n",
    "plt.ylabel(\"# of times I heard someone say 'data science'\")\n",
    "plt.axis([2012.5,2014.5,499,506])\n",
    "plt.show()"
   ]
  },
  {
   "cell_type": "code",
   "execution_count": 142,
   "metadata": {},
   "outputs": [
    {
     "name": "stdout",
     "output_type": "stream",
     "text": [
      "[0, 1, 2, 3, 4, 5, 6, 7, 8]\n"
     ]
    }
   ],
   "source": []
  },
  {
   "cell_type": "code",
   "execution_count": 144,
   "metadata": {},
   "outputs": [
    {
     "name": "stdout",
     "output_type": "stream",
     "text": [
      "[0, 1, 2, 3, 4, 5, 6, 7, 8]\n"
     ]
    },
    {
     "data": {
      "image/png": "[encoded data removed]",
      "text/plain": [
       "<matplotlib.figure.Figure at 0xa8d54e0>"
      ]
     },
     "metadata": {},
     "output_type": "display_data"
    }
   ],
   "source": [
    "\n",
    "variance = [2**x for x in range(9)]\n",
    "bias_squared = variance[::-1]\n",
    "total_error = [x+y for x,y in zip(variance, bias_squared)]\n",
    "\n",
    "xs = [i for i,_ in enumerate(variance)]\n",
    "print xs\n",
    "\n",
    "\n",
    "plt.plot(xs, variance, 'g-',label = \"variance\") #blah\n",
    "plt.plot(xs, bias_squared , 'r-',label = \"bias^2\") #blah\n",
    "plt.plot(xs, total_error, 'b:',label = \"total error\") #blah\n",
    "\n",
    "#loc=9 means top centre\n",
    "plt.legend(loc=9)\n",
    "plt.xlabel(\"model complexity\")\n",
    "plt.title(\"The Bias-Variance Tradeoff\")\n",
    "plt.show()"
   ]
  },
  {
   "cell_type": "code",
   "execution_count": 149,
   "metadata": {
    "scrolled": true
   },
   "outputs": [
    {
     "ename": "SyntaxError",
     "evalue": "invalid syntax (<ipython-input-149-887b85d18f5e>, line 16)",
     "output_type": "error",
     "traceback": [
      "\u001b[1;36m  File \u001b[1;32m\"<ipython-input-149-887b85d18f5e>\"\u001b[1;36m, line \u001b[1;32m16\u001b[0m\n\u001b[1;33m    plt.xlabel(\"# of Friends\")from math import pi\u001b[0m\n\u001b[1;37m                                 ^\u001b[0m\n\u001b[1;31mSyntaxError\u001b[0m\u001b[1;31m:\u001b[0m invalid syntax\n"
     ]
    }
   ],
   "source": [
    "friends = [ 70, 65, 72, 63, 71, 64, 60, 64, 67]\n",
    "minutes = [175, 170, 205, 120, 220, 130, 105, 145, 190]\n",
    "labels = ['a', 'b', 'c', 'd', 'e', 'f', 'g', 'h', 'i']\n",
    "\n",
    "plt.scatter(friends, minutes)\n",
    "\n",
    "#label for each pt\n",
    "\n",
    "for label, friend_count, minute_count in zip(labels, friends, minutes):\n",
    "    plt.annotate(label,\n",
    "                xy = (friend_count, minute_count),\n",
    "                xytext = (5,-5),\n",
    "                textcoords = 'offset points')\n",
    "plt.title(\"Daily Minutes vs Number of Friends\")\n",
    "\n",
    "plt.xlabel(\"# of Friends\")\n",
    "plt.ylabel(\"daily minutes spent on the site\")\n",
    "plt.show()"
   ]
  },
  {
   "cell_type": "code",
   "execution_count": 1,
   "metadata": {
    "collapsed": true
   },
   "outputs": [],
   "source": [
    "import numpy as np\n",
    "from scipy.integrate import odeint\n",
    "\n",
    "from bokeh.plotting import figure, show, output_file\n",
    "\n",
    "sigma = 10\n",
    "rho = 28\n",
    "beta = 8.0/3\n",
    "theta = 3 * np.pi / 4\n",
    "\n",
    "def lorenz(xyz, t):\n",
    "    x, y, z = xyz\n",
    "    x_dot = sigma * (y - x)\n",
    "    y_dot = x * rho - x * z - y\n",
    "    z_dot = x * y - beta* z\n",
    "    return [x_dot, y_dot, z_dot]\n",
    "\n",
    "initial = (-10, -7, 35)\n",
    "t = np.arange(0, 100, 0.006)\n",
    "\n",
    "solution = odeint(lorenz, initial, t)\n",
    "\n",
    "x = solution[:, 0]\n",
    "y = solution[:, 1]\n",
    "z = solution[:, 2]\n",
    "xprime = np.cos(theta) * x - np.sin(theta) * y\n",
    "\n",
    "colors = [\"#C6DBEF\", \"#9ECAE1\", \"#6BAED6\", \"#4292C6\", \"#2171B5\", \"#08519C\", \"#08306B\",]\n",
    "\n",
    "p = figure(title=\"lorenz example\")\n",
    "\n",
    "p.multi_line(np.array_split(xprime, 7), np.array_split(z, 7),\n",
    "             line_color=colors, line_alpha=0.8, line_width=1.5)\n",
    "\n",
    "output_file(\"lorenz.html\", title=\"lorenz.py example\")\n",
    "\n",
    "show(p)  # open a browser"
   ]
  },
  {
   "cell_type": "code",
   "execution_count": 2,
   "metadata": {
    "collapsed": true
   },
   "outputs": [],
   "source": [
    "from bokeh.io import show, output_file\n",
    "from bokeh.models import ColumnDataSource\n",
    "from bokeh.plotting import figure\n",
    "from bokeh.sampledata.commits import data\n",
    "from bokeh.transform import jitter\n",
    "\n",
    "output_file(\"categorical_scatter_jitter.html\")\n",
    "\n",
    "DAYS = ['Sun', 'Sat', 'Fri', 'Thu', 'Wed', 'Tue', 'Mon']\n",
    "\n",
    "source = ColumnDataSource(data)\n",
    "\n",
    "p = figure(plot_width=800, plot_height=300, y_range=DAYS, x_axis_type='datetime',\n",
    "           title=\"Commits by Time of Day (US/Central) 2012-2016\")\n",
    "\n",
    "p.circle(x='time', y=jitter('day', width=0.6, range=p.y_range),  source=source, alpha=0.3)\n",
    "\n",
    "p.xaxis[0].formatter.days = ['%Hh']\n",
    "p.x_range.range_padding = 0\n",
    "p.ygrid.grid_line_color = None\n",
    "\n",
    "show(p)"
   ]
  },
  {
   "cell_type": "code",
   "execution_count": 7,
   "metadata": {
    "collapsed": true
   },
   "outputs": [],
   "source": [
    "import numpy as np\n",
    "import pandas as pd\n",
    "\n",
    "from bokeh.plotting import figure, show, output_file\n",
    "\n",
    "# generate some synthetic time series for six different categories\n",
    "cats = list(\"abcdef\")\n",
    "yy = np.random.randn(2000)\n",
    "g = np.random.choice(cats, 2000)\n",
    "for i, l in enumerate(cats):\n",
    "    yy[g == l] += i // 2\n",
    "df = pd.DataFrame(dict(score=yy, group=g))\n",
    "\n",
    "# find the quartiles and IQR for each category\n",
    "groups = df.groupby('group')\n",
    "q1 = groups.quantile(q=0.25)\n",
    "q2 = groups.quantile(q=0.5)\n",
    "q3 = groups.quantile(q=0.75)\n",
    "iqr = q3 - q1\n",
    "upper = q3 + 1.5*iqr\n",
    "lower = q1 - 1.5*iqr\n",
    "\n",
    "# find the outliers for each category\n",
    "def outliers(group):\n",
    "    cat = group.name\n",
    "    return group[(group.score > upper.loc[cat]['score']) | (group.score < lower.loc[cat]['score'])]['score']\n",
    "out = groups.apply(outliers).dropna()\n",
    "\n",
    "# prepare outlier data for plotting, we need coordinates for every outlier.\n",
    "if not out.empty:\n",
    "    outx = []\n",
    "    outy = []\n",
    "    for cat in cats:\n",
    "        # only add outliers if they exist\n",
    "        if not out.loc[cat].empty:\n",
    "            for value in out[cat]:\n",
    "                outx.append(cat)\n",
    "                outy.append(value)\n",
    "\n",
    "p = figure(tools=\"save\", background_fill_color=\"#EFE8E2\", title=\"\", x_range=cats)\n",
    "\n",
    "# if no outliers, shrink lengths of stems to be no longer than the minimums or maximums\n",
    "qmin = groups.quantile(q=0.00)\n",
    "qmax = groups.quantile(q=1.00)\n",
    "upper.score = [min([x,y]) for (x,y) in zip(list(qmax.loc[:,'score']),upper.score)]\n",
    "lower.score = [max([x,y]) for (x,y) in zip(list(qmin.loc[:,'score']),lower.score)]\n",
    "\n",
    "# stems\n",
    "p.segment(cats, upper.score, cats, q3.score, line_color=\"black\")\n",
    "p.segment(cats, lower.score, cats, q1.score, line_color=\"black\")\n",
    "\n",
    "# boxes\n",
    "p.vbar(cats, 0.7, q2.score, q3.score, fill_color=\"#E06666\", line_color=\"black\")\n",
    "p.vbar(cats, 0.7, q1.score, q2.score, fill_color=\"#3B8686\", line_color=\"black\")\n",
    "\n",
    "# whiskers (almost-0 height rects simpler than segments)\n",
    "p.rect(cats, lower.score, 0.2, 0.01, line_color=\"black\")\n",
    "p.rect(cats, upper.score, 0.2, 0.01, line_color=\"black\")\n",
    "\n",
    "# outliers\n",
    "if not out.empty:\n",
    "    p.circle(outx, outy, size=6, color=\"#F38630\", fill_alpha=0.6)\n",
    "\n",
    "p.xgrid.grid_line_color = None\n",
    "p.ygrid.grid_line_color = \"white\"\n",
    "p.grid.grid_line_width = 2\n",
    "p.xaxis.major_label_text_font_size=\"12pt\"\n",
    "\n",
    "output_file(\"boxplot.html\", title=\"boxplot.py example\")\n",
    "\n",
    "show(p)"
   ]
  },
  {
   "cell_type": "code",
   "execution_count": 13,
   "metadata": {},
   "outputs": [
    {
     "name": "stdout",
     "output_type": "stream",
     "text": [
      "[18, 24, 30]\n"
     ]
    }
   ],
   "source": [
    "def vector_add(v,w):\n",
    "    return [v_i + w_i for v_i, w_i in zip(v,w)]\n",
    "        \n",
    "vector_add([1,2,3],[5,6,7])\n",
    "vectors = [[1,2,3],[5,6,7],[1,2,3],[5,6,7],[1,2,3],[5,6,7]]\n",
    "def vector_sum(vectors):\n",
    "    return reduce(vector_add, vectors)\n",
    "    \n",
    "print vector_sum(vectors)    "
   ]
  },
  {
   "cell_type": "code",
   "execution_count": 7,
   "metadata": {
    "scrolled": true
   },
   "outputs": [
    {
     "ename": "AttributeError",
     "evalue": "'numpy.ndarray' object has no attribute 'plot'",
     "output_type": "error",
     "traceback": [
      "\u001b[1;31m---------------------------------------------------------------------------\u001b[0m",
      "\u001b[1;31mAttributeError\u001b[0m                            Traceback (most recent call last)",
      "\u001b[1;32m<ipython-input-7-e73a6ee739e1>\u001b[0m in \u001b[0;36m<module>\u001b[1;34m()\u001b[0m\n\u001b[0;32m      7\u001b[0m \u001b[0mfig\u001b[0m\u001b[1;33m,\u001b[0m \u001b[0max\u001b[0m \u001b[1;33m=\u001b[0m \u001b[0mplt\u001b[0m\u001b[1;33m.\u001b[0m\u001b[0msubplots\u001b[0m\u001b[1;33m(\u001b[0m\u001b[1;36m1\u001b[0m\u001b[1;33m,\u001b[0m\u001b[1;36m2\u001b[0m\u001b[1;33m)\u001b[0m\u001b[1;33m\u001b[0m\u001b[0m\n\u001b[0;32m      8\u001b[0m \u001b[1;33m\u001b[0m\u001b[0m\n\u001b[1;32m----> 9\u001b[1;33m \u001b[0max\u001b[0m\u001b[1;33m.\u001b[0m\u001b[0mplot\u001b[0m\u001b[1;33m(\u001b[0m\u001b[0mt\u001b[0m\u001b[1;33m,\u001b[0m \u001b[0ms\u001b[0m\u001b[1;33m)\u001b[0m\u001b[1;33m\u001b[0m\u001b[0m\n\u001b[0m\u001b[0;32m     10\u001b[0m \u001b[1;33m\u001b[0m\u001b[0m\n\u001b[0;32m     11\u001b[0m ax.set(xlabel='time (s)', ylabel='Wavy stuff',\n",
      "\u001b[1;31mAttributeError\u001b[0m: 'numpy.ndarray' object has no attribute 'plot'"
     ]
    }
   ],
   "source": [
    "from matplotlib import pyplot as plt\n",
    "import numpy as np\n",
    "\n",
    "t = np.arange(0,4,0.01)\n",
    "s = 1 + np.sin(2*np.pi*t)\n",
    "\n",
    "fig, ax = plt.subplots(1,2)\n",
    "\n",
    "ax.plot(t, s)\n",
    "\n",
    "ax.set(xlabel='time (s)', ylabel='Wavy stuff',\n",
    "      title = 'About as simple as it gets, folks')\n",
    "ax.grid()\n",
    "\n",
    "fig.savefig(\"test.png\")\n",
    "plt.show()"
   ]
  },
  {
   "cell_type": "code",
   "execution_count": 9,
   "metadata": {
    "scrolled": false
   },
   "outputs": [
    {
     "data": {
      "image/png": "[encoded data removed]",
      "text/plain": [
       "<matplotlib.figure.Figure at 0xc0cea20>"
      ]
     },
     "metadata": {},
     "output_type": "display_data"
    }
   ],
   "source": [
    "A=[0,1,2,3,4,5,6]\n",
    "B=[1,1,3,2,4,3,5]\n",
    "\n",
    "f, axes = plt.subplots(2,2)\n",
    "ax11, ax12 = axes[0]\n",
    "ax21, ax22 = axes[1]\n",
    "\n",
    "ax11.scatter(A,B)\n",
    "ax11.set(title=\"stuff\", ylabel = \"count\", xticks= [])\n",
    "ax12.plot(A,B,\"r.-\")\n",
    "ax21.bar(A,B)\n",
    "ax22.barh(A,B)\n",
    "\n",
    "plt.show()"
   ]
  },
  {
   "cell_type": "raw",
   "metadata": {},
   "source": [
    "Implement matrix multiplication, then plot matrix transforms. Try isometric stuff first, translation, rotation. Then show sheer and inversion?\n",
    "\n",
    "1. Matrix multiplication implementation. tick\n",
    "2. Matrix addition tick\n",
    "3. determinant? \n"
   ]
  },
  {
   "cell_type": "code",
   "execution_count": 6,
   "metadata": {},
   "outputs": [
    {
     "data": {
      "text/plain": [
       "[[1.0000000000000002, 0.0], [0.0, 1.0]]"
      ]
     },
     "execution_count": 6,
     "metadata": {},
     "output_type": "execute_result"
    }
   ],
   "source": [
    "from __future__ import division\n",
    "\n",
    "def mdim(A):\n",
    "    return len(A), len(A[0])\n",
    "\n",
    "def vector_sum(A,B):\n",
    "    #compute vector sum of A and B\n",
    "    return [x+y for x,y in zip(A,B)]\n",
    "\n",
    "def scalar_mult_vector(a, V):\n",
    "    return [a*i for i in V]\n",
    "\n",
    "def scalar_mult(a, M):\n",
    "    return [scalar_mult_vector(a,V) for V in M]\n",
    "\n",
    "def dot(A,B):\n",
    "    #compute dot product of A and B\n",
    "    \n",
    "    return sum(x*y for x,y in zip(A,B))\n",
    "\n",
    "def madd(A,B):\n",
    "    #matrix add A and B\n",
    "    return [vector_sum(Ai,Bi) for Ai,Bi in zip(A,B)]\n",
    "\n",
    "def mtrans(A):\n",
    "    #get transpose matrix of A\n",
    "    \n",
    "    n, m = mdim(A) #A is an nxm matrix\n",
    "    At = [[0]*n for _ in range(m)]  #initialise mxn matrix At \n",
    "    for i,Ai in enumerate(A):\n",
    "        for j, Aij in enumerate(Ai):\n",
    "            At[j][i] = Aij #put element in position i,j in A into position j,i in At\n",
    "    return At\n",
    "    \n",
    "def mId(n):\n",
    "    #create nxn identity matrix\n",
    "    \n",
    "    I = [[0]*n for _ in range(n)]  #initialise mxn matrix At\n",
    "    for i in range(n):\n",
    "        I[i][i] = 1\n",
    "    return I\n",
    "    \n",
    "def mmult(A,B):\n",
    "    #matrix multiply A and B\n",
    "    \n",
    "    An, Am = mdim(A)\n",
    "    Bn, Bm = mdim(B)\n",
    "    if Am != Bn:\n",
    "        print \"dims don't match\"\n",
    "        return None\n",
    "    else:\n",
    "        C = [[0]*Bm for _ in range(An)] #initialise An x Bm result matrix\n",
    "        Bt = mtrans(B)\n",
    "        for i in range(An):\n",
    "            for j in range(Bm):\n",
    "                C[i][j] = dot(A[i],Bt[j])\n",
    "        return C\n",
    "\n",
    "\n",
    "def det(A):\n",
    "    n,m = mdim(A)\n",
    "    if (n,m) != (2,2):\n",
    "        print \"Matrix wrong size\"\n",
    "    else:\n",
    "        return A[0][0]*A[1][1]-A[0][1]*A[1][0]\n",
    "# print madd([[1,2],[2,1],[2,1]],[[1,3],[4,2],[1,3]])\n",
    "# print vector_sum([1,2,3],[2,3,4])\n",
    "            \n",
    "# print mtrans([[1,2],[2,1],[2,1]])\n",
    "\n",
    "# M = [[1,4,2,5],[3,2,5,6]]\n",
    "\n",
    "# print dot(M[0],M[0])\n",
    "\n",
    "# print mmult(M, mtrans(M))\n",
    "# print mmult(mtrans(M), M)\n",
    "\n",
    "def minvert(A):\n",
    "    #invert 2x2 vector A \n",
    "    a,b = A[0]\n",
    "    c,d = A[1]\n",
    "    B = [[d,-b],[-c,a]]\n",
    "    return scalar_mult(1/det(A),B)\n",
    "    \n",
    "A = [[5,3],[5,1]]\n",
    "mmult(minvert(A),A)\n",
    "\n"
   ]
  },
  {
   "cell_type": "code",
   "execution_count": 10,
   "metadata": {
    "scrolled": true
   },
   "outputs": [
    {
     "data": {
      "image/png": "[encoded data removed]",
      "text/plain": [
       "<matplotlib.figure.Figure at 0x9341400>"
      ]
     },
     "metadata": {},
     "output_type": "display_data"
    },
    {
     "name": "stdout",
     "output_type": "stream",
     "text": [
      "2.71828182846\n"
     ]
    }
   ],
   "source": [
    "import numpy as np\n",
    "from matplotlib import pyplot as plt\n",
    "\n",
    "t = np.arange(0,4,0.05)\n",
    "\n",
    "y1 = [1+np.exp(-i)*np.sin(i*np.pi*2) for i in t] \n",
    "y2 = [1+np.sin(i*np.pi*2) for i in t]\n",
    "\n",
    "fig, axs = plt.subplots(2,1)\n",
    "\n",
    "ax1, ax2 = axs\n",
    "\n",
    "ax1.plot(t,y1, \"g.-\")\n",
    "ax1.set(title = \"Decaying sin wave\", xlabel = \"t\", ylabel=\"amplitude\")\n",
    "\n",
    "ax2.plot(t,y2, \"r.-\")\n",
    "ax2.set(title = \"Normal sin wave\", xlabel = \"t\", ylabel=\"amplitude\")\n",
    "\n",
    "plt.tight_layout()\n",
    "plt.show()\n",
    "print np.exp(1)"
   ]
  },
  {
   "cell_type": "code",
   "execution_count": 11,
   "metadata": {
    "scrolled": true
   },
   "outputs": [
    {
     "data": {
      "image/png": "[encoded data removed]",
      "text/plain": [
       "<matplotlib.figure.Figure at 0x8680da0>"
      ]
     },
     "metadata": {},
     "output_type": "display_data"
    }
   ],
   "source": [
    "\n",
    "\n",
    "def normal(x, mu=0, sigma=1):\n",
    "    \n",
    "    return 1/(sigma*np.sqrt(2*np.pi))*np.exp(-(x-mu)**2/(2*sigma**2))\n",
    "\n",
    "t = np.arange(-5,5,0.02)\n",
    "y1 = [normal(i) for i in t]\n",
    "y2 = [normal(i, sigma = 2) for i in t]\n",
    "y3 = [normal(i, mu=1, sigma = 2) for i in t]\n",
    "y4 = [normal(i, mu=1, sigma = 0.5) for i in t]\n",
    "\n",
    "plt.plot(t,y1)\n",
    "plt.plot(t,y2, \"m:\")\n",
    "plt.plot(t,y3, \"g:\")\n",
    "plt.plot(t,y4, \"r:\")\n",
    "\n",
    "\n",
    "plt.show()\n",
    "\n"
   ]
  },
  {
   "cell_type": "code",
   "execution_count": 24,
   "metadata": {},
   "outputs": [
    {
     "data": {
      "text/plain": [
       "0.84134474606854293"
      ]
     },
     "execution_count": 24,
     "metadata": {},
     "output_type": "execute_result"
    }
   ],
   "source": [
    "from scipy.special import erf\n",
    "\n",
    "def normal_cdf(z, mu=0, sigma=1):\n",
    "    \n",
    "    if mu != 0 or sigma != 1:\n",
    "        return normal_cdf((z-mu)/sigma)\n",
    "    \n",
    "    return (1+erf(z/np.sqrt(2)))/2\n",
    "    \n",
    "normal_cdf(1)"
   ]
  },
  {
   "cell_type": "code",
   "execution_count": 42,
   "metadata": {},
   "outputs": [
    {
     "data": {
      "text/plain": [
       "0.9999942779541016"
      ]
     },
     "execution_count": 42,
     "metadata": {},
     "output_type": "execute_result"
    }
   ],
   "source": [
    "def inverse_normal_cdf(p, mu=0, sigma=1, tolerance=0.00001):\n",
    "    \"\"\"find approximate inverse using binary search\"\"\"\n",
    "    \n",
    "    #if not standard, compute standard and rescale\n",
    "    if mu != 0 or sigma != 1:\n",
    "        return mu + sigma * inverse_normal_cdf(p, tolerance=tolerance)\n",
    "    \n",
    "    lo_z, lo_p =-10, 0 #normal_cdf(-10) is very close to 0 \n",
    "    hi_z, hi_p = 10, 1 \n",
    "    #normal_cdf(10) is very close to 1\n",
    "    while hi_z-lo_z > tolerance:\n",
    "        mid_z = (hi_z + lo_z)/2\n",
    "        mid_p = normal_cdf(mid_z)\n",
    "        if p > mid_p:\n",
    "            lo_z, lo_p = mid_z, mid_p\n",
    "        elif p < mid_p:\n",
    "            hi_z, hi_p = mid_z, mid_p\n",
    "        else:\n",
    "            break\n",
    "    return mid_z\n",
    "\n",
    "inverse_normal_cdf(0.8413447)"
   ]
  },
  {
   "cell_type": "code",
   "execution_count": 107,
   "metadata": {
    "scrolled": true
   },
   "outputs": [
    {
     "name": "stdout",
     "output_type": "stream",
     "text": [
      " 1.0\n",
      "socialise 2.0\n",
      "shopping 1.5\n",
      "lunch 3.5\n",
      "breakfast+ready 2.5\n",
      "study 17.5\n",
      "work 20.0\n",
      "free 38.5\n",
      "travel+lunch 2.5\n",
      "dinner 3.5\n",
      "sleep 6.0\n",
      "parkrun? 1.0\n",
      "exercise+socialise 9.0\n",
      "mealprep 2.5\n",
      "travel 6.5\n",
      "exercise 4.5\n"
     ]
    },
    {
     "data": {
      "image/png": "[encoded data removed]",
      "text/plain": [
       "<matplotlib.figure.Figure at 0xd5381d0>"
      ]
     },
     "metadata": {},
     "output_type": "display_data"
    },
    {
     "name": "stdout",
     "output_type": "stream",
     "text": [
      "122.0\n"
     ]
    }
   ],
   "source": [
    "\n",
    "from __future__ import division\n",
    "from matplotlib import pyplot as plt\n",
    "from collections import Counter, defaultdict\n",
    "\n",
    "\n",
    "A = ''',,SATURDAY,SUNDAY,MONDAY,TUESDAY,WEDNESDAY,THURSDAY,FRIDAY\n",
    ",05:00,sleep,sleep,sleep,sleep,sleep,sleep,travel\n",
    ",05:30,sleep,sleep,sleep,sleep,sleep,sleep,coffee+travel\n",
    ",06:00,ready,free,exercise,free,exercise,free,exercise+socialise\n",
    ",06:30,travel,free,exercise,free,exercise,free,exercise+socialise\n",
    ",07:00,parkrun?,free,exercise,free,exercise,free,exercise+socialise\n",
    ",07:30,parkrun?,free,free,free,free,free,exercise+socialise\n",
    ",08:00,travel,breakfast,breakfast+ready,breakfast+ready,breakfast+ready,breakfast+ready,travel\n",
    ",08:30,free,free,travel,travel,travel,travel,breakfast+ready\n",
    ",09:00,free,free,work,work,work,work,work\n",
    ",09:30,travel,free,work,work,work,work,work\n",
    ",10:00,exercise+socialise,free,work,work,work,work,work\n",
    ",10:30,exercise+socialise,free,work,work,work,work,work\n",
    ",11:00,exercise+socialise,free,work,work,work,work,work\n",
    ",11:30,exercise+socialise,shopping,work,work,work,work,work\n",
    ",12:00,travel,shopping,work,work,work,work,work\n",
    ",12:30,free,shopping,work,work,work,work,work\n",
    ",13:00,lunch,lunch,travel+lunch,travel+lunch,travel+lunch,travel+lunch,travel+lunch\n",
    ",13:30,free,free,lunch,lunch,lunch,lunch,lunch\n",
    ",14:00,free,free,study,study,study,study,study\n",
    ",14:30,free,free,study,study,study,study,study\n",
    ",15:00,free,mealprep,study,study,study,study,study\n",
    ",15:30,free,mealprep,study,study,study,study,study\n",
    ",16:00,free,mealprep,study,study,study,study,study\n",
    ",16:30,free,mealprep,study,study,study,study,study\n",
    ",17:00,free,mealprep,study,study,study,study,study\n",
    ",17:30,dinner,dinner,dinner,travel,exercise,free,dinner\n",
    ",18:00,free,free,free,exercise+socialise,exercise,travel,free\n",
    ",18:30,free,free,free,exercise+socialise,exercise,exercise+socialise,free\n",
    ",19:00,free,free,free,exercise+socialise,dinner,exercise+socialise,free\n",
    ",19:30,free,free,free,exercise+socialise,free,exercise+socialise,free\n",
    ",20:00,free,free,free,exercise+socialise,free,dinner,free\n",
    ",20:30,free,free,free,exercise+socialise,free,socialise,free\n",
    ",21:00,free,free,free,exercise+socialise,free,socialise,free\n",
    ",21:30,free,free,free,travel,free,socialise,free\n",
    ",22:00,free,free,free,dinner,free,socialise,free'''\n",
    "B = A.replace(\"\\n\",\"\").split(\",\")\n",
    "\n",
    "C = Counter(B)\n",
    "\n",
    "D = defaultdict()\n",
    "\n",
    "for key, value in C.items():\n",
    "    if value > 1:\n",
    "        D[key] = value/2\n",
    "        \n",
    "for key, value in D.items():\n",
    "    print key, value\n",
    "    \n",
    "\n",
    "plt.bar(range(len(D)), D.values())\n",
    "plt.xticks(range(len(D)), list(D.keys()), rotation='vertical')\n",
    "plt.show()\n",
    "print sum(D.values())"
   ]
  },
  {
   "cell_type": "code",
   "execution_count": 3,
   "metadata": {},
   "outputs": [
    {
     "data": {
      "text/plain": [
       "0.04325"
      ]
     },
     "execution_count": 3,
     "metadata": {},
     "output_type": "execute_result"
    }
   ],
   "source": [
    "from __future__ import division\n",
    "173/4000\n"
   ]
  }
 ],
 "metadata": {
  "kernelspec": {
   "display_name": "Python 2",
   "language": "python",
   "name": "python2"
  },
  "language_info": {
   "codemirror_mode": {
    "name": "ipython",
    "version": 2
   },
   "file_extension": ".py",
   "mimetype": "text/x-python",
   "name": "python",
   "nbconvert_exporter": "python",
   "pygments_lexer": "ipython2",
   "version": "2.7.14"
  }
 },
 "nbformat": 4,
 "nbformat_minor": 2
}
