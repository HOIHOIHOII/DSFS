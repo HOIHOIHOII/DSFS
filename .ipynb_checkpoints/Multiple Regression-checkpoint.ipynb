{
 "cells": [
  {
   "cell_type": "code",
   "execution_count": 2,
   "metadata": {
    "scrolled": true
   },
   "outputs": [
    {
     "data": {
      "text/plain": [
       "20"
      ]
     },
     "execution_count": 2,
     "metadata": {},
     "output_type": "execute_result"
    }
   ],
   "source": [
    "#beta = [alpha, beta_1, \\dots, beta_k]\n",
    "\n",
    "def predict(x_i, beta):\n",
    "    \"\"\"assumes the first element of each x_i is 1\"\"\"\n",
    "    return sum(x_ij*beta_j for x_ij, beta_j in zip(x_i,beta))\n"
   ]
  },
  {
   "cell_type": "markdown",
   "metadata": {},
   "source": [
    "Let's construct an example of what happens when the columns of $x$ are: \n",
    "#1. not independent\n",
    "#2. Correlated with the errors\n",
    "\n"
   ]
  },
  {
   "cell_type": "markdown",
   "metadata": {},
   "source": [
    "#2\n",
    "\n",
    "We expect that creating a model with a \"missing\" parameter should cause bias, let's explore an example using the social network  from p181 DSFS.\n",
    "\n",
    "In the social network, we want to predict the number of minutes a user spends on the site using only a few parameters: the number of friends and the number of hours worked at their day job.  \n",
    "\n",
    "Let's assume that:\n",
    "    1. People who work more hours spend less time on the site. (negative correlation: work_hours and minutes)\n",
    "    2. People with more friends tend to work more hours. (positive correlation: friends and work_hours)\n"
   ]
  },
  {
   "cell_type": "code",
   "execution_count": 69,
   "metadata": {
    "scrolled": true
   },
   "outputs": [
    {
     "data": {
      "image/png": "[encoded data removed]",
      "text/plain": [
       "<matplotlib.figure.Figure at 0xd7e96d8>"
      ]
     },
     "metadata": {},
     "output_type": "display_data"
    }
   ],
   "source": [
    "import random\n",
    "from matplotlib import pyplot as plt\n",
    "random.seed(1)\n",
    "\n",
    "\n",
    "#+--------------===set \"True\" model parameters===-----------------+\n",
    "betas = [2, -1]\n",
    "alpha = 26\n",
    "\n",
    "\n",
    "#+----------------------===generate data===-----------------------+\n",
    "\n",
    "#friends is random\n",
    "friends_count = [(random.random()+0.3)*20 for _ in range(100)]\n",
    "\n",
    "#positive and noisy linear relationship between friends and work hours\n",
    "work_hours = [friend*(1.5) + (random.random()-0.5)*40 \n",
    "              for friend in friends_count]     \n",
    "\n",
    "#errors are random\n",
    "errors  = [(random.random()+0.3)*4 for _ in friends_count]\n",
    "\n",
    "#minutes constructed by model  m = \\alpha + beta_0*friends + \\beta_1*hours + error\n",
    "minutes = [alpha+betas[0]*friends+betas[1]*hours + error \n",
    "           for friends,hours,error in zip(friends_count,work_hours,errors)]\n",
    "\n",
    "data  = zip(minutes, friends_count, work_hours)\n",
    "\n",
    "#+------------------------===plotting===--------------------------+ \n",
    "\n",
    "fig, axs = plt.subplots(3)\n",
    "\n",
    "ax1,ax2,ax3 = axs\n",
    "\n",
    "ax1.scatter(work_hours,friends_count)\n",
    "ax1.set(xlabel = \"Work Hours\", ylabel=\"Friends\")\n",
    "\n",
    "ax2.scatter(work_hours,minutes)\n",
    "ax2.set(xlabel = \"Work Hours\", ylabel=\"Minutes\")\n",
    "\n",
    "ax3.scatter(friends_count,minutes)\n",
    "ax3.set(xlabel = \"Friends\", ylabel=\"Minutes\")\n",
    "\n",
    "fig.set_size_inches(6, 9)\n",
    "plt.tight_layout()\n",
    "plt.show()"
   ]
  },
  {
   "cell_type": "markdown",
   "metadata": {},
   "source": [
    "Now let's build a model where we attempt to predict minutes using number of friends"
   ]
  },
  {
   "cell_type": "code",
   "execution_count": 70,
   "metadata": {
    "collapsed": true
   },
   "outputs": [],
   "source": [
    "def predict(x_i, beta):\n",
    "    \"\"\"assumes the first element of each x_i is 1, the first element of beta is alpha param\"\"\"\n",
    "    return sum(x_ij*beta_j for x_ij, beta_j in zip(x_i,beta))\n",
    "\n",
    "            \n",
    "def sum_of_squares(y, x_i, betas):\n",
    "    \"\"\"assumes the first entry of each row in data is the true value y and the other entries are prediction variables\"\"\"\n",
    "    return sum((y - predict(x_ij,beta_j))**2 for  x_ij, beta_j in zip(x_i,betas)\n",
    "\n",
    "\n",
    "def sum_of_squares_gradient(v):\n",
    "    return [2*v_i for v_i in v] \n",
    "\n",
    "\n",
    "def minimise_stochastic(target_fn, gradient_fn, x, y, theta_0, alpha_0=0.01):\n",
    "    \"\"\"minimises target function one parameter at a time?\"\"\"\n",
    "    data = zip(x,y)\n",
    "    theta = theta_0                           #initial guess of input that yeilds minimum value\n",
    "    alpha = alpha_0                           #initial step size\n",
    "    min_theta, min_value = None, float(\"inf\") #current minimum\n",
    "    iterations_with_no_improvement = 0\n",
    "    \n",
    "    \n",
    "    #if we ever go 100 iterations with no improvement, stop\n",
    "    \n",
    "    \n",
    "    while iterations_with_no_improvement < 100:\n",
    "        value = sum(target_fn(x_i, y_i, theta) for x_i, y_i in data)\n",
    "        \n",
    "        if value < min_value:\n",
    "            min_theta, min_value = theta, value\n",
    "            iterations_with_no_improvement = 0\n",
    "            alpha = alpha_0\n",
    "        else:\n",
    "            #otherwise not improving, so try shrikning step size\n",
    "            iterations_with_no_improvement += 1\n",
    "            alpha *= 0.9\n",
    "            \n",
    "        for x_i, y_i in in_random_order(data):\n",
    "            gradient_i = gradient_fn(x_i, y_i, theta)\n",
    "            theta = vector_subtract(theta, scalar_multiply(alpha, gradient_i))\n",
    "            \n",
    "    return min_theta\n",
    "\n"
   ]
  }
 ],
 "metadata": {
  "kernelspec": {
   "display_name": "Python 2",
   "language": "python",
   "name": "python2"
  },
  "language_info": {
   "codemirror_mode": {
    "name": "ipython",
    "version": 2
   },
   "file_extension": ".py",
   "mimetype": "text/x-python",
   "name": "python",
   "nbconvert_exporter": "python",
   "pygments_lexer": "ipython2",
   "version": "2.7.14"
  }
 },
 "nbformat": 4,
 "nbformat_minor": 2
}
